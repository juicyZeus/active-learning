{
 "cells": [
  {
   "cell_type": "code",
   "execution_count": 15,
   "metadata": {},
   "outputs": [],
   "source": [
    "from utils import *\n",
    "from keras.models import load_model\n",
    "import json\n",
    "import scipy.stats\n",
    "import tensorflow as tf\n",
    "\n",
    "global graph\n",
    "graph = tf.get_default_graph()\n",
    "\n",
    "global model\n",
    "model_path = 'models/model_v0.h5'\n",
    "model = load_model(model_path)\n",
    " "
   ]
  },
  {
   "cell_type": "code",
   "execution_count": 2,
   "metadata": {},
   "outputs": [],
   "source": [
    "\n",
    "# input: \n",
    "# {\n",
    "#     image full path: label\n",
    "# }\n",
    "\n",
    "# example:\n",
    "# {\n",
    "#     './datasets/retrain/blue_2357_Brick_corner_1x2x2/201706171206-0009.png': 'blue_2357_Brick_corner_1x2x2',\n",
    "#     './datasets/retrain/blue_2357_Brick_corner_1x2x2/201706171206-0012.png': 'blue_2357_Brick_corner_1x2x2',\n",
    "#     ...\n",
    "# }\n",
    "\n",
    "data_home = \"./datasets/retrain/\"\n",
    "img_files = ['blue_2357_Brick_corner_1x2x2/201706171206-0009.png', \n",
    "            'blue_2357_Brick_corner_1x2x2/201706171206-0012.png',\n",
    "            'gray_3023_Plate_1x2/0381.png',\n",
    "            'green_3005_Brick_1x1/0265.png']\n",
    "\n",
    "img_paths = [data_home + img for img in img_files]\n",
    "training_data = { f: f.split(\"/\")[-2] for f in img_paths}"
   ]
  },
  {
   "cell_type": "code",
   "execution_count": 3,
   "metadata": {},
   "outputs": [
    {
     "data": {
      "text/plain": [
       "{'./datasets/retrain/blue_2357_Brick_corner_1x2x2/201706171206-0009.png': 'blue_2357_Brick_corner_1x2x2',\n",
       " './datasets/retrain/blue_2357_Brick_corner_1x2x2/201706171206-0012.png': 'blue_2357_Brick_corner_1x2x2',\n",
       " './datasets/retrain/gray_3023_Plate_1x2/0381.png': 'gray_3023_Plate_1x2',\n",
       " './datasets/retrain/green_3005_Brick_1x1/0265.png': 'green_3005_Brick_1x1'}"
      ]
     },
     "execution_count": 3,
     "metadata": {},
     "output_type": "execute_result"
    }
   ],
   "source": [
    "training_data"
   ]
  },
  {
   "cell_type": "code",
   "execution_count": 31,
   "metadata": {},
   "outputs": [],
   "source": [
    "x_data =  np.array([ load_image(img_path) for img_path in list(training_data.keys())])\n",
    "y_data =  list(training_data.values())\n",
    "\n",
    "classes_encoder = json.load(open(\"classes_encoder.json\"))\n",
    "classes=  list(classes_encoder.keys())\n",
    "y_data = np.array([classes_encoder[y] for y in y_data])\n",
    "y_data =  convert_to_one_hot(y_data, len(classes)).T\n"
   ]
  },
  {
   "cell_type": "code",
   "execution_count": 33,
   "metadata": {},
   "outputs": [
    {
     "name": "stdout",
     "output_type": "stream",
     "text": [
      "Epoch 1/1\n",
      "4/4 [==============================] - 0s 113ms/step - loss: 8.0151 - acc: 0.5000\n"
     ]
    }
   ],
   "source": [
    "with graph.as_default():\n",
    "    \n",
    "    # retrain\n",
    "    model.fit(  x_data,\n",
    "                y_data,\n",
    "                epochs=1,\n",
    "                batch_size=16,\n",
    "                verbose = 1\n",
    "            )\n",
    "\n",
    "    model_path_new = 'models/model_v2.h5'\n",
    "    model.save(model_path_new)\n",
    "\n",
    "\n",
    "# output:\n",
    "# a message confirm model is updated\n",
    "output = \"Model is updated.\"\n",
    "    "
   ]
  },
  {
   "cell_type": "code",
   "execution_count": null,
   "metadata": {},
   "outputs": [],
   "source": [
    "\n",
    "\n",
    "\n"
   ]
  }
 ],
 "metadata": {
  "kernelspec": {
   "display_name": "Python 3",
   "language": "python",
   "name": "python3"
  },
  "language_info": {
   "codemirror_mode": {
    "name": "ipython",
    "version": 3
   },
   "file_extension": ".py",
   "mimetype": "text/x-python",
   "name": "python",
   "nbconvert_exporter": "python",
   "pygments_lexer": "ipython3",
   "version": "3.6.6"
  }
 },
 "nbformat": 4,
 "nbformat_minor": 2
}
