{
 "cells": [
  {
   "cell_type": "code",
   "execution_count": 13,
   "metadata": {},
   "outputs": [],
   "source": [
    "from utils import *\n",
    "from keras.models import load_model\n",
    "import json\n",
    "import scipy.stats\n",
    "import tensorflow as tf\n",
    "global graph\n",
    "graph = tf.get_default_graph()\n",
    "\n",
    "from math import exp, pi, sqrt\n",
    "\n",
    "def get_score(x):\n",
    "    \n",
    "    y = (x - 0.5) / 0.1\n",
    "    score = scipy.stats.norm(0, 1).pdf(y)/(1/sqrt(2*pi))*100\n",
    "\n",
    "    return score"
   ]
  },
  {
   "cell_type": "code",
   "execution_count": 14,
   "metadata": {},
   "outputs": [],
   "source": [
    "\n",
    "\n",
    "\n",
    "\n",
    "\n",
    "data_home = \"./datasets/retrain/\"\n",
    "img_files = ['blue_2357_Brick_corner_1x2x2/201706171206-0009.png', \n",
    "            'blue_2357_Brick_corner_1x2x2/201706171206-0012.png',\n",
    "            'gray_3023_Plate_1x2/0381.png',\n",
    "            'green_3005_Brick_1x1/0265.png']\n",
    "\n",
    "img_paths = [data_home + img for img in img_files]\n",
    "\n",
    "# input: a list of full image paths\n",
    "# {\n",
    "#     data: img_paths\n",
    "# }\n",
    "\n",
    "x_data =  np.array([ load_image(img_path) for img_path in img_paths])\n",
    "\n",
    "classes_decoder = json.load(open(\"classes_decoder.json\"))\n",
    "\n",
    "version = 0\n",
    "model_filepath = \"./models/model_v\"+str(version) + \".h5\"\n",
    "    \n",
    "with graph.as_default():\n",
    "    \n",
    "    model = load_model(model_filepath)\n",
    "    probs_pred = model.predict_proba(x_data)\n",
    "    class_id_pred    = model.predict_classes(x_data)\n",
    "    class_label_pred = [classes_decoder[str(i)] for i in class_id_pred]\n",
    "    \n",
    "\n",
    "# output:\n",
    "# first key is the image full path\n",
    "# {\n",
    "#     './datasets/retrain/blue_2357_Brick_corner_1x2x2/201706171206-0009.png': {\n",
    "#                     label: 'gray_3023_Plate_1x2', \n",
    "#                     score: 0.6\n",
    "#                   },\n",
    "#     './datasets/retrain/blue_2357_Brick_corner_1x2x2/201706171206-0012.png': {\n",
    "#                     label: 'gray_3023_Plate_1x2', \n",
    "#                     score: 0.6\n",
    "#                   },\n",
    "# }\n",
    "\n",
    "output = dict()\n",
    "\n",
    "for i, class_id in enumerate(class_id_pred):\n",
    "    \n",
    "    img_path = img_paths[i]\n",
    "    output[img_path] = dict()\n",
    "    \n",
    "    x = probs_pred[i][class_id]\n",
    "    \n",
    "    output[img_path]['label'] = class_label_pred[i]\n",
    "    output[img_path]['score'] = get_score(x)\n",
    "    \n"
   ]
  },
  {
   "cell_type": "code",
   "execution_count": 16,
   "metadata": {},
   "outputs": [
    {
     "data": {
      "text/plain": [
       "['./datasets/retrain/blue_2357_Brick_corner_1x2x2/201706171206-0009.png',\n",
       " './datasets/retrain/blue_2357_Brick_corner_1x2x2/201706171206-0012.png',\n",
       " './datasets/retrain/gray_3023_Plate_1x2/0381.png',\n",
       " './datasets/retrain/green_3005_Brick_1x1/0265.png']"
      ]
     },
     "execution_count": 16,
     "metadata": {},
     "output_type": "execute_result"
    }
   ],
   "source": [
    "img_paths"
   ]
  },
  {
   "cell_type": "code",
   "execution_count": 94,
   "metadata": {},
   "outputs": [],
   "source": [
    "output = dict()\n",
    "\n",
    "for i, class_id in enumerate(class_id_pred):\n",
    "    \n",
    "    img_path = img_paths[i]\n",
    "    output[img_path] = dict()\n",
    "    \n",
    "    x = probs_pred[i][class_id]\n",
    "    score = get_score(x)\n",
    "    \n",
    "    output[img_path]['label'] = class_label_pred[i]\n",
    "    output[img_path]['label'] = \n",
    "    \n",
    "    img_scores.append(score)"
   ]
  },
  {
   "cell_type": "code",
   "execution_count": 95,
   "metadata": {},
   "outputs": [
    {
     "data": {
      "text/plain": [
       "{'./datasets/retrain/blue_2357_Brick_corner_1x2x2/201706171206-0009.png': {'label': 'gray_3023_Plate_1x2',\n",
       "  'score': 0.0003726653172078671},\n",
       " './datasets/retrain/blue_2357_Brick_corner_1x2x2/201706171206-0012.png': {'label': 'gray_3023_Plate_1x2',\n",
       "  'score': 0.0003726653172078671},\n",
       " './datasets/retrain/gray_3023_Plate_1x2/0381.png': {'label': 'gray_3023_Plate_1x2',\n",
       "  'score': 0.0003726653172078671},\n",
       " './datasets/retrain/green_3005_Brick_1x1/0265.png': {'label': 'gray_3023_Plate_1x2',\n",
       "  'score': 0.0003726653172078671}}"
      ]
     },
     "execution_count": 95,
     "metadata": {},
     "output_type": "execute_result"
    }
   ],
   "source": [
    "output[]"
   ]
  }
 ],
 "metadata": {
  "kernelspec": {
   "display_name": "Python 3",
   "language": "python",
   "name": "python3"
  },
  "language_info": {
   "codemirror_mode": {
    "name": "ipython",
    "version": 3
   },
   "file_extension": ".py",
   "mimetype": "text/x-python",
   "name": "python",
   "nbconvert_exporter": "python",
   "pygments_lexer": "ipython3",
   "version": "3.6.6"
  }
 },
 "nbformat": 4,
 "nbformat_minor": 2
}
